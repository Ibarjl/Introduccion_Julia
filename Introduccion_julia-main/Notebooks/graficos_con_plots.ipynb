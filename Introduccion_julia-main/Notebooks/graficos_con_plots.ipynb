{
 "cells": [
  {
   "cell_type": "markdown",
   "id": "5c59e21e",
   "metadata": {},
   "source": [
    "# Gráficos con Plots.jl\n",
    "\n",
    "Este notebook te enseñará a crear visualizaciones hermosas y funcionales usando Plots.jl, el paquete de gráficos más popular de Julia.\n",
    "\n",
    "## Instalación\n",
    "\n",
    "Primero, asegúrate de tener Plots.jl instalado:"
   ]
  },
  {
   "cell_type": "code",
   "execution_count": null,
   "id": "ef932e7f",
   "metadata": {},
   "outputs": [],
   "source": [
    "# Descomenta las siguientes líneas para instalar Plots\n",
    "# using Pkg\n",
    "# Pkg.add(\"Plots\")\n",
    "# Pkg.add(\"PlotlyJS\")  # Backend interactivo\n",
    "# Pkg.add(\"StatsPlots\")  # Extensiones estadísticas"
   ]
  },
  {
   "cell_type": "code",
   "execution_count": null,
   "id": "3f607f61",
   "metadata": {},
   "outputs": [],
   "source": [
    "using Plots\n",
    "using Random\n",
    "using Statistics\n",
    "\n",
    "# Configurar backend (descomenta el que prefieras)\n",
    "# plotlyjs()  # Interactivo\n",
    "# gr()        # Rápido (por defecto)\n",
    "# pyplot()    # Matplotlib\n",
    "\n",
    "# Configuración global\n",
    "default(size=(600, 400), dpi=100)"
   ]
  },
  {
   "cell_type": "markdown",
   "id": "abbb23a2",
   "metadata": {},
   "source": [
    "## 1. Gráficos Básicos\n",
    "\n",
    "Comencemos con gráficos simples de líneas y puntos:"
   ]
  },
  {
   "cell_type": "code",
   "execution_count": null,
   "id": "f206baaa",
   "metadata": {},
   "outputs": [],
   "source": [
    "# Gráfico de línea simple\n",
    "x = 0:0.1:2π\n",
    "y = sin.(x)\n",
    "\n",
    "plot(x, y, \n",
    "     title=\"Función Seno\",\n",
    "     xlabel=\"x\",\n",
    "     ylabel=\"sin(x)\",\n",
    "     linewidth=2,\n",
    "     color=:blue,\n",
    "     label=\"sin(x)\")"
   ]
  },
  {
   "cell_type": "code",
   "execution_count": null,
   "id": "02621111",
   "metadata": {},
   "outputs": [],
   "source": [
    "# Múltiples series en un gráfico\n",
    "x = 0:0.1:2π\n",
    "y1 = sin.(x)\n",
    "y2 = cos.(x)\n",
    "y3 = tan.(x)\n",
    "\n",
    "plot(x, [y1 y2], \n",
    "     title=\"Funciones Trigonométricas\",\n",
    "     xlabel=\"x\",\n",
    "     ylabel=\"y\",\n",
    "     label=[\"sin(x)\" \"cos(x)\"],\n",
    "     linewidth=2,\n",
    "     colors=[:blue :red])\n",
    "\n",
    "# Agregar otra serie\n",
    "plot!(x, y3, \n",
    "      label=\"tan(x)\",\n",
    "      color=:green,\n",
    "      linewidth=2,\n",
    "      ylims=(-5, 5))  # Limitar eje Y por tan(x)"
   ]
  },
  {
   "cell_type": "markdown",
   "id": "42bb3a98",
   "metadata": {},
   "source": [
    "## 2. Diferentes Tipos de Gráficos\n",
    "\n",
    "Plots.jl soporta muchos tipos de gráficos:"
   ]
  },
  {
   "cell_type": "code",
   "execution_count": null,
   "id": "169bf41b",
   "metadata": {},
   "outputs": [],
   "source": [
    "# Gráfico de dispersión\n",
    "Random.seed!(42)\n",
    "n = 50\n",
    "x = randn(n)\n",
    "y = 2*x + randn(n)  # Relación lineal con ruido\n",
    "\n",
    "scatter(x, y,\n",
    "        title=\"Gráfico de Dispersión\",\n",
    "        xlabel=\"Variable X\",\n",
    "        ylabel=\"Variable Y\",\n",
    "        alpha=0.7,\n",
    "        markersize=6,\n",
    "        color=:orange,\n",
    "        label=\"Datos\")\n",
    "\n",
    "# Agregar línea de tendencia\n",
    "coeffs = [ones(length(x)) x] \\ y  # Regresión lineal simple\n",
    "x_line = -3:0.1:3\n",
    "y_line = coeffs[1] .+ coeffs[2] .* x_line\n",
    "\n",
    "plot!(x_line, y_line,\n",
    "      color=:red,\n",
    "      linewidth=2,\n",
    "      label=\"Tendencia\")"
   ]
  },
  {
   "cell_type": "code",
   "execution_count": null,
   "id": "0fce606b",
   "metadata": {},
   "outputs": [],
   "source": [
    "# Histograma\n",
    "Random.seed!(123)\n",
    "datos = randn(1000)\n",
    "\n",
    "histogram(datos,\n",
    "          bins=30,\n",
    "          title=\"Distribución Normal\",\n",
    "          xlabel=\"Valor\",\n",
    "          ylabel=\"Frecuencia\",\n",
    "          alpha=0.7,\n",
    "          color=:lightblue,\n",
    "          label=\"Datos\",\n",
    "          normalize=:probability)"
   ]
  },
  {
   "cell_type": "code",
   "execution_count": null,
   "id": "98e4933c",
   "metadata": {},
   "outputs": [],
   "source": [
    "# Gráfico de barras\n",
    "categorias = [\"A\", \"B\", \"C\", \"D\", \"E\"]\n",
    "valores = [23, 45, 56, 78, 32]\n",
    "\n",
    "bar(categorias, valores,\n",
    "    title=\"Gráfico de Barras\",\n",
    "    xlabel=\"Categorías\",\n",
    "    ylabel=\"Valores\",\n",
    "    color=:steelblue,\n",
    "    alpha=0.8,\n",
    "    label=\"Valores\")\n",
    "\n",
    "# Agregar valores encima de las barras\n",
    "annotate!([(i, valores[i] + 2, text(string(valores[i]), 10, :center)) \n",
    "           for i in 1:length(valores)])"
   ]
  },
  {
   "cell_type": "markdown",
   "id": "b73a1dfd",
   "metadata": {},
   "source": [
    "## 3. Gráficos 3D\n",
    "\n",
    "Julia maneja muy bien las visualizaciones tridimensionales:"
   ]
  },
  {
   "cell_type": "code",
   "execution_count": null,
   "id": "e14e3b21",
   "metadata": {},
   "outputs": [],
   "source": [
    "# Superficie 3D\n",
    "x = -5:0.25:5\n",
    "y = -5:0.25:5\n",
    "f(x, y) = sin(sqrt(x^2 + y^2)) / sqrt(x^2 + y^2 + 1)\n",
    "\n",
    "surface(x, y, f,\n",
    "        title=\"Función de Dos Variables\",\n",
    "        xlabel=\"X\",\n",
    "        ylabel=\"Y\",\n",
    "        zlabel=\"f(x,y)\",\n",
    "        color=:viridis)"
   ]
  },
  {
   "cell_type": "code",
   "execution_count": null,
   "id": "7aa5bff4",
   "metadata": {},
   "outputs": [],
   "source": [
    "# Gráfico 3D de línea (espiral)\n",
    "t = 0:0.1:6π\n",
    "x = cos.(t)\n",
    "y = sin.(t)\n",
    "z = t\n",
    "\n",
    "plot(x, y, z,\n",
    "     title=\"Espiral 3D\",\n",
    "     xlabel=\"X\",\n",
    "     ylabel=\"Y\",\n",
    "     zlabel=\"Z\",\n",
    "     linewidth=3,\n",
    "     color=:rainbow,\n",
    "     label=\"Espiral\")"
   ]
  },
  {
   "cell_type": "markdown",
   "id": "77c93c25",
   "metadata": {},
   "source": [
    "## 4. Subgráficos\n",
    "\n",
    "Combinar múltiples gráficos en una figura:"
   ]
  },
  {
   "cell_type": "code",
   "execution_count": null,
   "id": "a8a26df8",
   "metadata": {},
   "outputs": [],
   "source": [
    "# Crear subgráficos\n",
    "x = 0:0.1:2π\n",
    "\n",
    "p1 = plot(x, sin.(x), title=\"Seno\", color=:blue)\n",
    "p2 = plot(x, cos.(x), title=\"Coseno\", color=:red)\n",
    "p3 = plot(x, sin.(x) .* cos.(x), title=\"Producto\", color=:green)\n",
    "p4 = plot(x, sin.(x).^2 + cos.(x).^2, title=\"Identidad\", color=:purple)\n",
    "\n",
    "plot(p1, p2, p3, p4, \n",
    "     layout=(2, 2),\n",
    "     size=(800, 600),\n",
    "     plot_title=\"Funciones Trigonométricas\")"
   ]
  },
  {
   "cell_type": "markdown",
   "id": "645ba498",
   "metadata": {},
   "source": [
    "## 5. Personalización Avanzada\n",
    "\n",
    "Cómo hacer gráficos más atractivos y profesionales:"
   ]
  },
  {
   "cell_type": "code",
   "execution_count": null,
   "id": "c34c1e76",
   "metadata": {},
   "outputs": [],
   "source": [
    "# Gráfico con estilo personalizado\n",
    "x = 0:0.1:4π\n",
    "y1 = exp.(-x/4) .* sin.(x)\n",
    "y2 = exp.(-x/4) .* cos.(x)\n",
    "\n",
    "plot(x, [y1 y2],\n",
    "     title=\"Oscilaciones Amortiguadas\",\n",
    "     xlabel=\"Tiempo (s)\",\n",
    "     ylabel=\"Amplitud\",\n",
    "     label=[\"sin amortiguado\" \"cos amortiguado\"],\n",
    "     linewidth=3,\n",
    "     linestyle=[:solid :dash],\n",
    "     color=[:blue :red],\n",
    "     grid=true,\n",
    "     gridwidth=1,\n",
    "     gridcolor=:gray,\n",
    "     background_color=:white,\n",
    "     foreground_color=:black,\n",
    "     legend=:topright,\n",
    "     size=(700, 400),\n",
    "     dpi=150)\n",
    "\n",
    "# Agregar líneas de referencia\n",
    "hline!([0], color=:black, linewidth=1, alpha=0.5, label=\"\")\n",
    "plot!(x, exp.(-x/4), color=:gray, linestyle=:dot, alpha=0.7, label=\"Envolvente\")\n",
    "plot!(x, -exp.(-x/4), color=:gray, linestyle=:dot, alpha=0.7, label=\"\")"
   ]
  },
  {
   "cell_type": "markdown",
   "id": "860db03d",
   "metadata": {},
   "source": [
    "## 6. Mapas de Calor\n",
    "\n",
    "Visualizar datos bidimensionales con mapas de calor:"
   ]
  },
  {
   "cell_type": "code",
   "execution_count": null,
   "id": "788be968",
   "metadata": {},
   "outputs": [],
   "source": [
    "# Crear datos para mapa de calor\n",
    "n = 20\n",
    "x = repeat(1:n, 1, n)\n",
    "y = repeat((1:n)', n, 1)\n",
    "z = sin.(x/3) .* cos.(y/3) .* exp.(-(x.^2 + y.^2)/200)\n",
    "\n",
    "heatmap(z,\n",
    "        title=\"Mapa de Calor\",\n",
    "        xlabel=\"X\",\n",
    "        ylabel=\"Y\",\n",
    "        color=:hot,\n",
    "        aspect_ratio=:equal)\n",
    "\n",
    "# Agregar contornos\n",
    "contour!(z, \n",
    "         color=:white, \n",
    "         linewidth=1, \n",
    "         alpha=0.7,\n",
    "         levels=10)"
   ]
  },
  {
   "cell_type": "markdown",
   "id": "46f6f912",
   "metadata": {},
   "source": [
    "## 7. Animaciones\n",
    "\n",
    "Crear animaciones simples:"
   ]
  },
  {
   "cell_type": "code",
   "execution_count": null,
   "id": "996234a4",
   "metadata": {},
   "outputs": [],
   "source": [
    "# Animación de onda\n",
    "x = 0:0.1:2π\n",
    "anim = @animate for t in 0:0.1:2π\n",
    "    y = sin.(x .+ t)\n",
    "    plot(x, y,\n",
    "         title=\"Onda Viajera (t = $(round(t, digits=1)))\",\n",
    "         xlabel=\"Posición\",\n",
    "         ylabel=\"Amplitud\",\n",
    "         ylims=(-1.5, 1.5),\n",
    "         linewidth=3,\n",
    "         color=:blue,\n",
    "         label=\"y = sin(x + t)\")\n",
    "end\n",
    "\n",
    "# Para guardar la animación (descomenta la línea siguiente)\n",
    "# gif(anim, \"onda_viajera.gif\", fps=15)\n",
    "\n",
    "println(\"Animación creada (ejecuta gif(anim, \\\"nombre.gif\\\") para guardar)\")"
   ]
  },
  {
   "cell_type": "markdown",
   "id": "c5ac9e6a",
   "metadata": {},
   "source": [
    "## 8. Gráficos Estadísticos\n",
    "\n",
    "Usando StatsPlots para visualizaciones estadísticas:"
   ]
  },
  {
   "cell_type": "code",
   "execution_count": null,
   "id": "861cb18d",
   "metadata": {},
   "outputs": [],
   "source": [
    "# Si tienes StatsPlots instalado, descomenta:\n",
    "# using StatsPlots\n",
    "\n",
    "# Box plot manual\n",
    "Random.seed!(456)\n",
    "grupo1 = randn(100) .+ 2\n",
    "grupo2 = randn(120) .+ 3\n",
    "grupo3 = randn(80) .+ 1\n",
    "\n",
    "# Simular box plot con violin plot básico\n",
    "datos = [grupo1; grupo2; grupo3]\n",
    "grupos = [fill(\"Grupo 1\", length(grupo1)); \n",
    "          fill(\"Grupo 2\", length(grupo2)); \n",
    "          fill(\"Grupo 3\", length(grupo3))]\n",
    "\n",
    "# Crear gráfico de dispersión por grupos\n",
    "p = plot(title=\"Distribución por Grupos\")\n",
    "\n",
    "for (i, grupo) in enumerate([\"Grupo 1\", \"Grupo 2\", \"Grupo 3\"])\n",
    "    indices = grupos .== grupo\n",
    "    y_vals = datos[indices]\n",
    "    x_vals = fill(i, sum(indices)) .+ 0.2 * randn(sum(indices))\n",
    "    \n",
    "    scatter!(x_vals, y_vals, \n",
    "             alpha=0.6, \n",
    "             markersize=3,\n",
    "             label=grupo)\n",
    "end\n",
    "\n",
    "plot!(xlabel=\"Grupos\", \n",
    "      ylabel=\"Valores\",\n",
    "      xticks=(1:3, [\"Grupo 1\", \"Grupo 2\", \"Grupo 3\"]))"
   ]
  },
  {
   "cell_type": "markdown",
   "id": "4ffd14c5",
   "metadata": {},
   "source": [
    "## 9. Ejemplo Avanzado: Dashboard de Datos\n",
    "\n",
    "Crear un dashboard con múltiples visualizaciones:"
   ]
  },
  {
   "cell_type": "code",
   "execution_count": null,
   "id": "8ec687a3",
   "metadata": {},
   "outputs": [],
   "source": [
    "# Generar datos simulados\n",
    "Random.seed!(789)\n",
    "fechas = 1:30\n",
    "ventas = 100 .+ cumsum(randn(30) * 5)\n",
    "temperatura = 20 .+ 10 * sin.(fechas * π / 15) .+ randn(30) * 2\n",
    "categorias = [\"A\", \"B\", \"C\", \"D\"]\n",
    "valores_cat = [85, 120, 95, 140]\n",
    "\n",
    "# Gráfico 1: Serie temporal de ventas\n",
    "p1 = plot(fechas, ventas,\n",
    "          title=\"Ventas Diarias\",\n",
    "          xlabel=\"Día\",\n",
    "          ylabel=\"Ventas (€)\",\n",
    "          linewidth=2,\n",
    "          color=:blue,\n",
    "          marker=:circle,\n",
    "          markersize=3,\n",
    "          label=\"Ventas\")\n",
    "\n",
    "# Agregar media móvil\n",
    "ventana = 7\n",
    "media_movil = [mean(ventas[max(1,i-ventana+1):i]) for i in 1:length(ventas)]\n",
    "plot!(fechas, media_movil,\n",
    "      linewidth=3,\n",
    "      color=:red,\n",
    "      alpha=0.8,\n",
    "      label=\"Media móvil (7 días)\")\n",
    "\n",
    "# Gráfico 2: Temperatura\n",
    "p2 = plot(fechas, temperatura,\n",
    "          title=\"Temperatura\",\n",
    "          xlabel=\"Día\",\n",
    "          ylabel=\"°C\",\n",
    "          linewidth=2,\n",
    "          color=:orange,\n",
    "          fill=(0, :orange, 0.2),\n",
    "          label=\"Temperatura\")\n",
    "\n",
    "# Gráfico 3: Barras por categoría\n",
    "p3 = bar(categorias, valores_cat,\n",
    "         title=\"Ventas por Categoría\",\n",
    "         xlabel=\"Categoría\",\n",
    "         ylabel=\"Unidades\",\n",
    "         color=[:red :green :blue :purple],\n",
    "         alpha=0.8,\n",
    "         label=\"\")\n",
    "\n",
    "# Gráfico 4: Correlación ventas-temperatura\n",
    "p4 = scatter(temperatura, ventas,\n",
    "             title=\"Ventas vs Temperatura\",\n",
    "             xlabel=\"Temperatura (°C)\",\n",
    "             ylabel=\"Ventas (€)\",\n",
    "             alpha=0.7,\n",
    "             markersize=5,\n",
    "             color=:green,\n",
    "             label=\"Datos\")\n",
    "\n",
    "# Agregar línea de tendencia\n",
    "coeffs = [ones(length(temperatura)) temperatura] \\ ventas\n",
    "temp_line = minimum(temperatura):0.1:maximum(temperatura)\n",
    "ventas_line = coeffs[1] .+ coeffs[2] .* temp_line\n",
    "plot!(temp_line, ventas_line,\n",
    "      color=:red,\n",
    "      linewidth=2,\n",
    "      label=\"Tendencia\")\n",
    "\n",
    "# Combinar todos los gráficos\n",
    "plot(p1, p2, p3, p4,\n",
    "     layout=(2, 2),\n",
    "     size=(1000, 700),\n",
    "     plot_title=\"Dashboard de Análisis de Datos\")"
   ]
  },
  {
   "cell_type": "markdown",
   "id": "327ad977",
   "metadata": {},
   "source": [
    "## 10. Consejos y Mejores Prácticas\n",
    "\n",
    "### Configuración de temas\n",
    "Puedes usar temas predefinidos:"
   ]
  },
  {
   "cell_type": "code",
   "execution_count": null,
   "id": "eefe3a85",
   "metadata": {},
   "outputs": [],
   "source": [
    "# Diferentes temas (descomenta el que quieras probar)\n",
    "# theme(:default)\n",
    "# theme(:dark)\n",
    "# theme(:ggplot2)\n",
    "# theme(:juno)\n",
    "# theme(:lime)\n",
    "# theme(:orange)\n",
    "# theme(:sand)\n",
    "# theme(:solarized)\n",
    "# theme(:solarized_light)\n",
    "# theme(:wong)\n",
    "# theme(:wong2)\n",
    "# theme(:gruvbox_dark)\n",
    "# theme(:gruvbox_light)\n",
    "# theme(:bright)\n",
    "# theme(:vibrant)\n",
    "\n",
    "# Ejemplo con tema\n",
    "theme(:solarized)\n",
    "x = 0:0.1:2π\n",
    "plot(x, [sin.(x) cos.(x)],\n",
    "     title=\"Ejemplo con Tema Solarized\",\n",
    "     label=[\"sin(x)\" \"cos(x)\"],\n",
    "     linewidth=3)\n",
    "\n",
    "# Volver al tema por defecto\n",
    "theme(:default)"
   ]
  },
  {
   "cell_type": "markdown",
   "id": "17966678",
   "metadata": {},
   "source": [
    "### Paletas de colores útiles:"
   ]
  },
  {
   "cell_type": "code",
   "execution_count": null,
   "id": "22526bf2",
   "metadata": {},
   "outputs": [],
   "source": [
    "# Mostrar paletas de colores disponibles\n",
    "paletas = [:default, :heat, :hot, :cool, :blues, :reds, :greens, \n",
    "           :viridis, :plasma, :inferno, :magma, :rainbow]\n",
    "\n",
    "x = 1:10\n",
    "plots_paletas = []\n",
    "\n",
    "for (i, paleta) in enumerate(paletas[1:min(6, length(paletas))])\n",
    "    p = scatter(x, x, \n",
    "               title=string(paleta),\n",
    "               color=paleta,\n",
    "               markersize=8,\n",
    "               label=\"\",\n",
    "               colorbar=false)\n",
    "    push!(plots_paletas, p)\n",
    "end\n",
    "\n",
    "plot(plots_paletas..., \n",
    "     layout=(2, 3),\n",
    "     size=(900, 600),\n",
    "     plot_title=\"Paletas de Colores Disponibles\")"
   ]
  },
  {
   "cell_type": "markdown",
   "id": "79482bca",
   "metadata": {},
   "source": [
    "## 11. Ejercicios Prácticos\n",
    "\n",
    "¡Practica lo que has aprendido!"
   ]
  },
  {
   "cell_type": "code",
   "execution_count": null,
   "id": "3ff1caab",
   "metadata": {},
   "outputs": [],
   "source": [
    "# Ejercicio 1: Crear un gráfico de la función f(x) = x² + 2x + 1\n",
    "# Incluir el título, etiquetas de ejes y una cuadrícula\n",
    "\n",
    "# Tu código aquí:\n",
    "x_ejercicio = -5:0.1:3\n",
    "y_ejercicio = x_ejercicio.^2 .+ 2*x_ejercicio .+ 1\n",
    "\n",
    "# plot(...)"
   ]
  },
  {
   "cell_type": "code",
   "execution_count": null,
   "id": "126d62d1",
   "metadata": {},
   "outputs": [],
   "source": [
    "# Ejercicio 2: Crear un histograma de 1000 números aleatorios\n",
    "# de una distribución normal con media 5 y desviación estándar 2\n",
    "\n",
    "# Tu código aquí:\n",
    "datos_ejercicio = 5 .+ 2*randn(1000)\n",
    "\n",
    "# histogram(...)"
   ]
  },
  {
   "cell_type": "code",
   "execution_count": null,
   "id": "9e04deae",
   "metadata": {},
   "outputs": [],
   "source": [
    "# Ejercicio 3: Crear una superficie 3D de la función z = x*y*exp(-x²-y²)\n",
    "# en el rango x, y ∈ [-2, 2]\n",
    "\n",
    "# Tu código aquí:\n",
    "x_3d = -2:0.1:2\n",
    "y_3d = -2:0.1:2\n",
    "z_func(x, y) = x * y * exp(-x^2 - y^2)\n",
    "\n",
    "# surface(...)"
   ]
  },
  {
   "cell_type": "markdown",
   "id": "e48712b5",
   "metadata": {},
   "source": [
    "## Recursos Adicionales\n",
    "\n",
    "### Documentación y tutoriales:\n",
    "- [Documentación oficial de Plots.jl](https://docs.juliaplots.org/)\n",
    "- [Galería de ejemplos](https://docs.juliaplots.org/latest/gallery/)\n",
    "- [PlotlyJS.jl](https://plotly.com/julia/) para gráficos interactivos\n",
    "- [Makie.jl](https://makie.juliaplots.org/) para visualizaciones avanzadas\n",
    "\n",
    "### Paquetes relacionados:\n",
    "- `StatsPlots.jl`: Gráficos estadísticos\n",
    "- `PlotlyJS.jl`: Backend interactivo\n",
    "- `GR.jl`: Backend rápido\n",
    "- `PyPlot.jl`: Interface a Matplotlib\n",
    "- `Makie.jl`: Sistema de gráficos moderno\n",
    "\n",
    "¡Felicidades! Ahora tienes las herramientas para crear visualizaciones hermosas y funcionales en Julia."
   ]
  }
 ],
 "metadata": {
  "language_info": {
   "name": "python"
  }
 },
 "nbformat": 4,
 "nbformat_minor": 5
}

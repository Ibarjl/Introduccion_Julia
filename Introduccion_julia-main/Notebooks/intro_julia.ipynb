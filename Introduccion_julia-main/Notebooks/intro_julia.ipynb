{
 "cells": [
  {
   "cell_type": "markdown",
   "id": "ed8e8429",
   "metadata": {},
   "source": [
    "# Introducción a Julia\n",
    "\n",
    "¡Bienvenido al mundo de Julia! Este notebook te guiará a través de los conceptos básicos del lenguaje de programación Julia.\n",
    "\n",
    "## ¿Qué es Julia?\n",
    "\n",
    "Julia es un lenguaje de programación de alto nivel y alto rendimiento diseñado para la computación científica. Combina la facilidad de uso de Python con la velocidad de C.\n",
    "\n",
    "### Características principales:\n",
    "- **Rápido**: Compilación Just-In-Time (JIT)\n",
    "- **Dinámico**: Tipado dinámico con inferencia de tipos\n",
    "- **Fácil**: Sintaxis simple y expresiva\n",
    "- **Técnico**: Diseñado para computación científica\n",
    "- **Composable**: Excelente para programación genérica"
   ]
  },
  {
   "cell_type": "markdown",
   "id": "659b9630",
   "metadata": {},
   "source": [
    "## 1. Variables y Tipos Básicos\n",
    "\n",
    "En Julia, puedes crear variables simplemente asignándoles valores:"
   ]
  },
  {
   "cell_type": "code",
   "execution_count": null,
   "id": "04284f75",
   "metadata": {},
   "outputs": [],
   "source": [
    "# Variables numéricas\n",
    "entero = 42\n",
    "flotante = 3.14159\n",
    "complejo = 3 + 4im\n",
    "\n",
    "println(\"Entero: $entero (tipo: $(typeof(entero)))\")\n",
    "println(\"Flotante: $flotante (tipo: $(typeof(flotante)))\")\n",
    "println(\"Complejo: $complejo (tipo: $(typeof(complejo)))\")"
   ]
  },
  {
   "cell_type": "code",
   "execution_count": null,
   "id": "050828a5",
   "metadata": {},
   "outputs": [],
   "source": [
    "# Variables de texto\n",
    "cadena = \"¡Hola, Julia!\"\n",
    "caracter = 'J'\n",
    "\n",
    "println(\"Cadena: $cadena\")\n",
    "println(\"Carácter: $caracter\")\n",
    "\n",
    "# Julia soporta Unicode\n",
    "emoji = \"🚀\"\n",
    "griego = \"α β γ δ\"\n",
    "println(\"Emoji: $emoji\")\n",
    "println(\"Griego: $griego\")"
   ]
  },
  {
   "cell_type": "code",
   "execution_count": null,
   "id": "0fe1dc03",
   "metadata": {},
   "outputs": [],
   "source": [
    "# Variables booleanas\n",
    "verdadero = true\n",
    "falso = false\n",
    "\n",
    "println(\"Verdadero: $verdadero\")\n",
    "println(\"Falso: $falso\")\n",
    "\n",
    "# Operaciones lógicas\n",
    "resultado = verdadero && !falso\n",
    "println(\"true && !false = $resultado\")"
   ]
  },
  {
   "cell_type": "markdown",
   "id": "5f084f55",
   "metadata": {},
   "source": [
    "## 2. Operaciones Matemáticas\n",
    "\n",
    "Julia tiene soporte nativo para operaciones matemáticas:"
   ]
  },
  {
   "cell_type": "code",
   "execution_count": null,
   "id": "085a2291",
   "metadata": {},
   "outputs": [],
   "source": [
    "# Operaciones básicas\n",
    "a, b = 10, 3\n",
    "\n",
    "println(\"$a + $b = $(a + b)\")\n",
    "println(\"$a - $b = $(a - b)\")\n",
    "println(\"$a * $b = $(a * b)\")\n",
    "println(\"$a / $b = $(a / b)\")\n",
    "println(\"$a ^ $b = $(a ^ b)\")\n",
    "println(\"$a % $b = $(a % b)\")\n",
    "println(\"$a ÷ $b = $(a ÷ b)\")  # División entera"
   ]
  },
  {
   "cell_type": "code",
   "execution_count": null,
   "id": "273b5e77",
   "metadata": {},
   "outputs": [],
   "source": [
    "# Funciones matemáticas\n",
    "using MathConstants\n",
    "\n",
    "x = π/4  # π está predefinido\n",
    "println(\"x = π/4 ≈ $(round(x, digits=4))\")\n",
    "println(\"sin(x) = $(sin(x))\")\n",
    "println(\"cos(x) = $(cos(x))\")\n",
    "println(\"tan(x) = $(tan(x))\")\n",
    "println(\"exp(1) = $(exp(1))\")\n",
    "println(\"log(e) = $(log(ℯ))\")\n",
    "println(\"√2 = $(√2)\")"
   ]
  },
  {
   "cell_type": "markdown",
   "id": "8933dce9",
   "metadata": {},
   "source": [
    "## 3. Colecciones de Datos\n",
    "\n",
    "Julia tiene varios tipos de colecciones para almacenar datos:"
   ]
  },
  {
   "cell_type": "code",
   "execution_count": null,
   "id": "54d67610",
   "metadata": {},
   "outputs": [],
   "source": [
    "# Arrays (Vectores y Matrices)\n",
    "vector = [1, 2, 3, 4, 5]\n",
    "matriz = [1 2 3; 4 5 6; 7 8 9]\n",
    "\n",
    "println(\"Vector: $vector\")\n",
    "println(\"Matriz:\")\n",
    "display(matriz)\n",
    "\n",
    "# Indexación (base 1)\n",
    "println(\"Primer elemento del vector: $(vector[1])\")\n",
    "println(\"Elemento [2,3] de la matriz: $(matriz[2,3])\")"
   ]
  },
  {
   "cell_type": "code",
   "execution_count": null,
   "id": "05d69de7",
   "metadata": {},
   "outputs": [],
   "source": [
    "# Tuplas (inmutables)\n",
    "coordenada = (3.5, 7.2)\n",
    "persona = (\"Ana\", 25, \"Ingeniera\")\n",
    "\n",
    "println(\"Coordenada: $coordenada\")\n",
    "println(\"Persona: $persona\")\n",
    "println(\"Nombre: $(persona[1])\")\n",
    "println(\"Edad: $(persona[2])\")\n",
    "println(\"Profesión: $(persona[3])\")"
   ]
  },
  {
   "cell_type": "code",
   "execution_count": null,
   "id": "01f9c55f",
   "metadata": {},
   "outputs": [],
   "source": [
    "# Diccionarios\n",
    "estudiante = Dict(\n",
    "    \"nombre\" => \"Carlos\",\n",
    "    \"edad\" => 22,\n",
    "    \"carrera\" => \"Matemáticas\",\n",
    "    \"promedio\" => 8.7\n",
    ")\n",
    "\n",
    "println(\"Estudiante: $estudiante\")\n",
    "println(\"Nombre: $(estudiante[\"nombre\"])\")\n",
    "println(\"Promedio: $(estudiante[\"promedio\"])\")\n",
    "\n",
    "# Agregar nueva clave\n",
    "estudiante[\"semestre\"] = 6\n",
    "println(\"Después de agregar semestre: $estudiante\")"
   ]
  },
  {
   "cell_type": "markdown",
   "id": "fc0e070e",
   "metadata": {},
   "source": [
    "## 4. Control de Flujo\n",
    "\n",
    "Julia tiene las estructuras de control típicas:"
   ]
  },
  {
   "cell_type": "code",
   "execution_count": null,
   "id": "0d1fcf35",
   "metadata": {},
   "outputs": [],
   "source": [
    "# Condicionales\n",
    "temperatura = 25\n",
    "\n",
    "if temperatura > 30\n",
    "    estado = \"Caluroso\"\n",
    "elseif temperatura > 20\n",
    "    estado = \"Templado\"\n",
    "elseif temperatura > 10\n",
    "    estado = \"Fresco\"\n",
    "else\n",
    "    estado = \"Frío\"\n",
    "end\n",
    "\n",
    "println(\"Temperatura: $temperatura°C - Estado: $estado\")\n",
    "\n",
    "# Operador ternario\n",
    "mensaje = temperatura > 25 ? \"Hace calor\" : \"Está fresco\"\n",
    "println(\"Mensaje: $mensaje\")"
   ]
  },
  {
   "cell_type": "code",
   "execution_count": null,
   "id": "87627496",
   "metadata": {},
   "outputs": [],
   "source": [
    "# Bucle for\n",
    "println(\"Contando del 1 al 5:\")\n",
    "for i in 1:5\n",
    "    println(\"i = $i\")\n",
    "end\n",
    "\n",
    "println(\"\\nIterando sobre un array:\")\n",
    "frutas = [\"manzana\", \"banana\", \"naranja\"]\n",
    "for fruta in frutas\n",
    "    println(\"Me gusta la $fruta\")\n",
    "end"
   ]
  },
  {
   "cell_type": "code",
   "execution_count": null,
   "id": "d966dc5c",
   "metadata": {},
   "outputs": [],
   "source": [
    "# Bucle while\n",
    "contador = 1\n",
    "suma = 0\n",
    "\n",
    "println(\"Sumando números del 1 al 10:\")\n",
    "while contador <= 10\n",
    "    suma += contador\n",
    "    println(\"Suma hasta $contador: $suma\")\n",
    "    contador += 1\n",
    "end\n",
    "\n",
    "println(\"Suma total: $suma\")"
   ]
  },
  {
   "cell_type": "markdown",
   "id": "70536c8b",
   "metadata": {},
   "source": [
    "## 5. Funciones\n",
    "\n",
    "Las funciones son ciudadanos de primera clase en Julia:"
   ]
  },
  {
   "cell_type": "code",
   "execution_count": null,
   "id": "73da86e1",
   "metadata": {},
   "outputs": [],
   "source": [
    "# Función básica\n",
    "function saludar(nombre)\n",
    "    return \"¡Hola, $nombre!\"\n",
    "end\n",
    "\n",
    "# Función con tipos especificados\n",
    "function area_circulo(radio::Float64)::Float64\n",
    "    return π * radio^2\n",
    "end\n",
    "\n",
    "# Función con múltiples argumentos\n",
    "function distancia(x1, y1, x2, y2)\n",
    "    return √((x2-x1)^2 + (y2-y1)^2)\n",
    "end\n",
    "\n",
    "println(saludar(\"Julia\"))\n",
    "println(\"Área de círculo (r=3): $(area_circulo(3.0))\")\n",
    "println(\"Distancia entre (0,0) y (3,4): $(distancia(0, 0, 3, 4))\")"
   ]
  },
  {
   "cell_type": "code",
   "execution_count": null,
   "id": "27dbb730",
   "metadata": {},
   "outputs": [],
   "source": [
    "# Funciones anónimas (lambda)\n",
    "cuadrado = x -> x^2\n",
    "suma_dos = (a, b) -> a + b\n",
    "\n",
    "println(\"Cuadrado de 5: $(cuadrado(5))\")\n",
    "println(\"Suma de 3 y 7: $(suma_dos(3, 7))\")\n",
    "\n",
    "# Usar funciones con map\n",
    "numeros = [1, 2, 3, 4, 5]\n",
    "cuadrados = map(cuadrado, numeros)\n",
    "println(\"Números: $numeros\")\n",
    "println(\"Cuadrados: $cuadrados\")"
   ]
  },
  {
   "cell_type": "markdown",
   "id": "8e46ce02",
   "metadata": {},
   "source": [
    "## 6. Comprensiones y Operaciones con Arrays\n",
    "\n",
    "Julia tiene sintaxis muy expresiva para trabajar con arrays:"
   ]
  },
  {
   "cell_type": "code",
   "execution_count": null,
   "id": "84a209e9",
   "metadata": {},
   "outputs": [],
   "source": [
    "# Array comprehensions\n",
    "cuadrados = [x^2 for x in 1:10]\n",
    "pares = [x for x in 1:20 if x % 2 == 0]\n",
    "tabla = [i*j for i in 1:5, j in 1:5]\n",
    "\n",
    "println(\"Cuadrados del 1 al 10: $cuadrados\")\n",
    "println(\"Números pares del 1 al 20: $pares\")\n",
    "println(\"Tabla de multiplicar 5x5:\")\n",
    "display(tabla)"
   ]
  },
  {
   "cell_type": "code",
   "execution_count": null,
   "id": "28d7d029",
   "metadata": {},
   "outputs": [],
   "source": [
    "# Operaciones vectorizadas\n",
    "a = [1, 2, 3, 4, 5]\n",
    "b = [10, 20, 30, 40, 50]\n",
    "\n",
    "# Suma elemento a elemento\n",
    "suma = a .+ b\n",
    "producto = a .* b\n",
    "potencias = a .^ 2\n",
    "\n",
    "println(\"a = $a\")\n",
    "println(\"b = $b\")\n",
    "println(\"a .+ b = $suma\")\n",
    "println(\"a .* b = $producto\")\n",
    "println(\"a .^ 2 = $potencias\")"
   ]
  },
  {
   "cell_type": "markdown",
   "id": "fa301891",
   "metadata": {},
   "source": [
    "## 7. Structs y Tipos Personalizados\n",
    "\n",
    "Julia permite definir tipos de datos personalizados:"
   ]
  },
  {
   "cell_type": "code",
   "execution_count": null,
   "id": "7ff32134",
   "metadata": {},
   "outputs": [],
   "source": [
    "# Definir un struct\n",
    "struct Punto\n",
    "    x::Float64\n",
    "    y::Float64\n",
    "end\n",
    "\n",
    "# Struct mutable\n",
    "mutable struct Rectangulo\n",
    "    ancho::Float64\n",
    "    alto::Float64\n",
    "end\n",
    "\n",
    "# Función para el struct\n",
    "function area(r::Rectangulo)\n",
    "    return r.ancho * r.alto\n",
    "end\n",
    "\n",
    "function perimetro(r::Rectangulo)\n",
    "    return 2 * (r.ancho + r.alto)\n",
    "end\n",
    "\n",
    "# Crear instancias\n",
    "p1 = Punto(3.0, 4.0)\n",
    "rect = Rectangulo(5.0, 3.0)\n",
    "\n",
    "println(\"Punto: ($p1.x, $p1.y)\")\n",
    "println(\"Rectángulo: $(rect.ancho) x $(rect.alto)\")\n",
    "println(\"Área del rectángulo: $(area(rect))\")\n",
    "println(\"Perímetro del rectángulo: $(perimetro(rect))\")"
   ]
  },
  {
   "cell_type": "markdown",
   "id": "4cd79ccc",
   "metadata": {},
   "source": [
    "## 8. Ejemplo Práctico: Calculadora de Estadísticas\n",
    "\n",
    "Vamos a crear una pequeña aplicación que calcule estadísticas básicas:"
   ]
  },
  {
   "cell_type": "code",
   "execution_count": null,
   "id": "512e4ba0",
   "metadata": {},
   "outputs": [],
   "source": [
    "using Statistics\n",
    "\n",
    "struct EstadisticasBasicas\n",
    "    datos::Vector{Float64}\n",
    "    n::Int\n",
    "    media::Float64\n",
    "    mediana::Float64\n",
    "    desviacion::Float64\n",
    "    minimo::Float64\n",
    "    maximo::Float64\n",
    "    \n",
    "    function EstadisticasBasicas(datos::Vector{Float64})\n",
    "        n = length(datos)\n",
    "        if n == 0\n",
    "            error(\"No se pueden calcular estadísticas de un vector vacío\")\n",
    "        end\n",
    "        \n",
    "        media = mean(datos)\n",
    "        mediana = median(datos)\n",
    "        desviacion = std(datos)\n",
    "        minimo = minimum(datos)\n",
    "        maximo = maximum(datos)\n",
    "        \n",
    "        new(datos, n, media, mediana, desviacion, minimo, maximo)\n",
    "    end\n",
    "end\n",
    "\n",
    "function mostrar_estadisticas(stats::EstadisticasBasicas)\n",
    "    println(\"📊 ESTADÍSTICAS BÁSICAS\")\n",
    "    println(\"=\" ^ 30)\n",
    "    println(\"Datos: $(stats.datos)\")\n",
    "    println(\"Número de elementos: $(stats.n)\")\n",
    "    println(\"Media: $(round(stats.media, digits=2))\")\n",
    "    println(\"Mediana: $(round(stats.mediana, digits=2))\")\n",
    "    println(\"Desviación estándar: $(round(stats.desviacion, digits=2))\")\n",
    "    println(\"Mínimo: $(stats.minimo)\")\n",
    "    println(\"Máximo: $(stats.maximo)\")\n",
    "    println(\"Rango: $(stats.maximo - stats.minimo)\")\n",
    "end\n",
    "\n",
    "# Generar datos de ejemplo\n",
    "datos_aleatorios = [rand() * 100 for _ in 1:10]\n",
    "datos_aleatorios = round.(datos_aleatorios, digits=1)\n",
    "\n",
    "stats = EstadisticasBasicas(datos_aleatorios)\n",
    "mostrar_estadisticas(stats)"
   ]
  },
  {
   "cell_type": "markdown",
   "id": "5587b8b3",
   "metadata": {},
   "source": [
    "## 9. Gráficos Simples (Opcional)\n",
    "\n",
    "Si tienes instalado el paquete Plots, puedes crear gráficos:"
   ]
  },
  {
   "cell_type": "code",
   "execution_count": null,
   "id": "1205a249",
   "metadata": {},
   "outputs": [],
   "source": [
    "# Descomenta las siguientes líneas si tienes Plots instalado\n",
    "# using Plots\n",
    "\n",
    "# x = 0:0.1:2π\n",
    "# y = sin.(x)\n",
    "# z = cos.(x)\n",
    "\n",
    "# plot(x, [y z], label=[\"sin(x)\" \"cos(x)\"], \n",
    "#      title=\"Funciones Trigonométricas\",\n",
    "#      xlabel=\"x\", ylabel=\"y\",\n",
    "#      linewidth=2)\n",
    "\n",
    "# En su lugar, creemos una representación textual\n",
    "function grafico_ascii(datos, ancho=50, alto=10)\n",
    "    min_val, max_val = extrema(datos)\n",
    "    rango = max_val - min_val\n",
    "    \n",
    "    println(\"📈 Gráfico ASCII (min: $(round(min_val, digits=2)), max: $(round(max_val, digits=2)))\")\n",
    "    \n",
    "    for fila in alto:-1:1\n",
    "        umbral = min_val + (fila - 1) * rango / (alto - 1)\n",
    "        linea = \"\"\n",
    "        \n",
    "        for (i, valor) in enumerate(datos)\n",
    "            if i <= ancho\n",
    "                if valor >= umbral\n",
    "                    linea *= \"*\"\n",
    "                else\n",
    "                    linea *= \" \"\n",
    "                end\n",
    "            end\n",
    "        end\n",
    "        \n",
    "        println(\"$(round(umbral, digits=1))\\t|$linea\")\n",
    "    end\n",
    "    \n",
    "    println(\"\\t\", \"-\" ^ min(length(datos), ancho))\n",
    "end\n",
    "\n",
    "# Crear datos de ejemplo\n",
    "x = 0:0.3:6\n",
    "y = sin.(x) .+ 1  # Sumar 1 para que sea positivo\n",
    "\n",
    "grafico_ascii(y)"
   ]
  },
  {
   "cell_type": "markdown",
   "id": "8bc8c83b",
   "metadata": {},
   "source": [
    "## 10. Próximos Pasos\n",
    "\n",
    "¡Felicidades! Has aprendido los conceptos básicos de Julia. Aquí tienes algunas sugerencias para continuar:\n",
    "\n",
    "### Temas para explorar:\n",
    "1. **Paquetes**: Aprende a usar `Pkg` para instalar paquetes\n",
    "2. **Algebra Lineal**: Julia tiene excelente soporte nativo\n",
    "3. **Paralelización**: Julia facilita la computación paralela\n",
    "4. **Metaprogramación**: Macros y generación de código\n",
    "5. **Interoperabilidad**: Usar código de Python, R, C, etc.\n",
    "\n",
    "### Recursos útiles:\n",
    "- [Documentación oficial de Julia](https://docs.julialang.org/)\n",
    "- [Julia Academy](https://juliaacademy.com/)\n",
    "- [Paquetes de Julia](https://juliapackages.com/)\n",
    "- [Discourse de Julia](https://discourse.julialang.org/)\n",
    "\n",
    "### Ejercicio final:\n",
    "Intenta crear una función que resuelva ecuaciones cuadráticas ax² + bx + c = 0:"
   ]
  },
  {
   "cell_type": "code",
   "execution_count": null,
   "id": "a4f1c3e8",
   "metadata": {},
   "outputs": [],
   "source": [
    "function ecuacion_cuadratica(a, b, c)\n",
    "    # Tu código aquí\n",
    "    # Pista: usar la fórmula cuadrática\n",
    "    # x = (-b ± √(b²-4ac)) / 2a\n",
    "end\n",
    "\n",
    "# Prueba tu función:\n",
    "# ecuacion_cuadratica(1, -5, 6)  # Debería dar x = 2 y x = 3"
   ]
  }
 ],
 "metadata": {
  "language_info": {
   "name": "python"
  }
 },
 "nbformat": 4,
 "nbformat_minor": 5
}

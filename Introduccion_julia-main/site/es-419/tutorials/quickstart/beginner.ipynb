{
 "cells": [
  {
   "cell_type": "markdown",
   "id": "59737a2e",
   "metadata": {},
   "source": [
    "# Guía Rápida para Principiantes en Julia\n",
    "\n",
    "¡Bienvenido a Julia! Esta guía te llevará desde cero hasta poder escribir tus primeros programas en Julia en menos de 30 minutos.\n",
    "\n",
    "## ¿Por qué Julia?\n",
    "\n",
    "Julia fue diseñado para resolver el \"problema de dos lenguajes\":\n",
    "- **Prototipado**: Usa un lenguaje fácil (Python, R, MATLAB)\n",
    "- **Producción**: Reescribe en un lenguaje rápido (C, C++, Fortran)\n",
    "\n",
    "Julia elimina esta necesidad: **fácil de escribir Y rápido de ejecutar**."
   ]
  },
  {
   "cell_type": "markdown",
   "id": "cb9dd818",
   "metadata": {},
   "source": [
    "## 1. Primeros Pasos - ¡Hola Mundo!\n",
    "\n",
    "Empecemos con lo básico:"
   ]
  },
  {
   "cell_type": "code",
   "execution_count": null,
   "id": "81f993a7",
   "metadata": {},
   "outputs": [],
   "source": [
    "# Tu primer programa en Julia\n",
    "println(\"¡Hola, mundo!\")\n",
    "println(\"¡Bienvenido a Julia! 🚀\")"
   ]
  },
  {
   "cell_type": "markdown",
   "id": "8f4d8a33",
   "metadata": {},
   "source": [
    "## 2. Variables - Almacenar Información\n",
    "\n",
    "En Julia, crear variables es súper fácil:"
   ]
  },
  {
   "cell_type": "code",
   "execution_count": null,
   "id": "0bb04c8c",
   "metadata": {},
   "outputs": [],
   "source": [
    "# Números\n",
    "mi_numero = 42\n",
    "mi_decimal = 3.14\n",
    "\n",
    "# Texto\n",
    "mi_nombre = \"Ana\"\n",
    "mi_apellido = \"García\"\n",
    "\n",
    "# Verdadero/Falso\n",
    "es_estudiante = true\n",
    "\n",
    "# Ver qué contienen\n",
    "println(\"Número: $mi_numero\")\n",
    "println(\"Decimal: $mi_decimal\")\n",
    "println(\"Nombre completo: $mi_nombre $mi_apellido\")\n",
    "println(\"¿Es estudiante? $es_estudiante\")"
   ]
  },
  {
   "cell_type": "markdown",
   "id": "5666ef12",
   "metadata": {},
   "source": [
    "## 3. Matemáticas - Julia es una Calculadora Súper Poderosa\n",
    "\n",
    "Julia maneja matemáticas de forma natural:"
   ]
  },
  {
   "cell_type": "code",
   "execution_count": null,
   "id": "dd9c0b5a",
   "metadata": {},
   "outputs": [],
   "source": [
    "# Operaciones básicas\n",
    "a = 10\n",
    "b = 3\n",
    "\n",
    "println(\"$a + $b = \", a + b)  # Suma\n",
    "println(\"$a - $b = \", a - b)  # Resta\n",
    "println(\"$a * $b = \", a * b)  # Multiplicación\n",
    "println(\"$a / $b = \", a / b)  # División\n",
    "println(\"$a ^ $b = \", a ^ b)  # Potencia\n",
    "\n",
    "# Funciones matemáticas\n",
    "println(\"√$a = \", √a)         # Raíz cuadrada\n",
    "println(\"sin(π/2) = \", sin(π/2))  # Seno de π/2"
   ]
  },
  {
   "cell_type": "markdown",
   "id": "ab91f260",
   "metadata": {},
   "source": [
    "## 4. Listas - Almacenar Múltiples Cosas\n",
    "\n",
    "Los arrays (listas) son fundamentales en Julia:"
   ]
  },
  {
   "cell_type": "code",
   "execution_count": null,
   "id": "9e4d955d",
   "metadata": {},
   "outputs": [],
   "source": [
    "# Crear listas\n",
    "numeros = [1, 2, 3, 4, 5]\n",
    "nombres = [\"Ana\", \"Luis\", \"Carmen\", \"Diego\"]\n",
    "mezclado = [1, \"hola\", 3.14, true]\n",
    "\n",
    "println(\"Números: $numeros\")\n",
    "println(\"Nombres: $nombres\")\n",
    "println(\"Mezclado: $mezclado\")\n",
    "\n",
    "# Acceder a elementos (¡empieza en 1, no en 0!)\n",
    "println(\"Primer número: $(numeros[1])\")\n",
    "println(\"Segundo nombre: $(nombres[2])\")\n",
    "println(\"Último número: $(numeros[end])\")"
   ]
  },
  {
   "cell_type": "code",
   "execution_count": null,
   "id": "94f7c525",
   "metadata": {},
   "outputs": [],
   "source": [
    "# Operaciones con listas\n",
    "push!(numeros, 6)  # Agregar al final\n",
    "println(\"Después de agregar 6: $numeros\")\n",
    "\n",
    "pop!(numeros)      # Quitar el último\n",
    "println(\"Después de quitar el último: $numeros\")\n",
    "\n",
    "# Longitud de la lista\n",
    "println(\"La lista tiene $(length(numeros)) elementos\")"
   ]
  },
  {
   "cell_type": "markdown",
   "id": "5412ae23",
   "metadata": {},
   "source": [
    "## 5. Tomar Decisiones - If/Else\n",
    "\n",
    "Haz que tu programa tome decisiones:"
   ]
  },
  {
   "cell_type": "code",
   "execution_count": null,
   "id": "9b8f247a",
   "metadata": {},
   "outputs": [],
   "source": [
    "# Ejemplo: Clasificar edad\n",
    "edad = 20\n",
    "\n",
    "if edad < 13\n",
    "    categoria = \"niño\"\n",
    "elseif edad < 20\n",
    "    categoria = \"adolescente\"\n",
    "elseif edad < 65\n",
    "    categoria = \"adulto\"\n",
    "else\n",
    "    categoria = \"adulto mayor\"\n",
    "end\n",
    "\n",
    "println(\"Una persona de $edad años es: $categoria\")"
   ]
  },
  {
   "cell_type": "code",
   "execution_count": null,
   "id": "dc1958b5",
   "metadata": {},
   "outputs": [],
   "source": [
    "# Ejemplo práctico: Calculadora de notas\n",
    "calificacion = 85\n",
    "\n",
    "if calificacion >= 90\n",
    "    letra = \"A\"\n",
    "    mensaje = \"¡Excelente!\"\n",
    "elseif calificacion >= 80\n",
    "    letra = \"B\"\n",
    "    mensaje = \"¡Muy bien!\"\n",
    "elseif calificacion >= 70\n",
    "    letra = \"C\"\n",
    "    mensaje = \"Bien\"\n",
    "elseif calificacion >= 60\n",
    "    letra = \"D\"\n",
    "    mensaje = \"Necesitas mejorar\"\n",
    "else\n",
    "    letra = \"F\"\n",
    "    mensaje = \"Reprobado\"\n",
    "end\n",
    "\n",
    "println(\"Calificación: $calificacion\")\n",
    "println(\"Letra: $letra\")\n",
    "println(\"Comentario: $mensaje\")"
   ]
  },
  {
   "cell_type": "markdown",
   "id": "6a3a4c60",
   "metadata": {},
   "source": [
    "## 6. Repetir Acciones - Bucles\n",
    "\n",
    "Haz que tu programa repita cosas automáticamente:"
   ]
  },
  {
   "cell_type": "code",
   "execution_count": null,
   "id": "b8e4cce4",
   "metadata": {},
   "outputs": [],
   "source": [
    "# Bucle for - repetir un número específico de veces\n",
    "println(\"Contando del 1 al 5:\")\n",
    "for i in 1:5\n",
    "    println(\"Número: $i\")\n",
    "end"
   ]
  },
  {
   "cell_type": "code",
   "execution_count": null,
   "id": "e34fffea",
   "metadata": {},
   "outputs": [],
   "source": [
    "# Bucle con listas\n",
    "frutas = [\"manzana\", \"banana\", \"naranja\", \"uva\"]\n",
    "\n",
    "println(\"Mis frutas favoritas:\")\n",
    "for fruta in frutas\n",
    "    println(\"- Me gusta la $fruta\")\n",
    "end"
   ]
  },
  {
   "cell_type": "code",
   "execution_count": null,
   "id": "814f3891",
   "metadata": {},
   "outputs": [],
   "source": [
    "# Bucle while - repetir mientras algo sea verdad\n",
    "contador = 1\n",
    "suma = 0\n",
    "\n",
    "println(\"Sumando números del 1 al 10:\")\n",
    "while contador <= 10\n",
    "    suma = suma + contador\n",
    "    println(\"$contador: suma actual = $suma\")\n",
    "    contador = contador + 1\n",
    "end\n",
    "\n",
    "println(\"Total final: $suma\")"
   ]
  },
  {
   "cell_type": "markdown",
   "id": "d609512f",
   "metadata": {},
   "source": [
    "## 7. Funciones - Reutilizar Código\n",
    "\n",
    "Las funciones te permiten organizar y reutilizar tu código:"
   ]
  },
  {
   "cell_type": "code",
   "execution_count": null,
   "id": "d11f986c",
   "metadata": {},
   "outputs": [],
   "source": [
    "# Función simple\n",
    "function saludar(nombre)\n",
    "    return \"¡Hola, $nombre! ¿Cómo estás?\"\n",
    "end\n",
    "\n",
    "# Usar la función\n",
    "mensaje1 = saludar(\"María\")\n",
    "mensaje2 = saludar(\"Carlos\")\n",
    "\n",
    "println(mensaje1)\n",
    "println(mensaje2)"
   ]
  },
  {
   "cell_type": "code",
   "execution_count": null,
   "id": "fe1fcd84",
   "metadata": {},
   "outputs": [],
   "source": [
    "# Función con múltiples parámetros\n",
    "function calcular_area_rectangulo(ancho, alto)\n",
    "    area = ancho * alto\n",
    "    return area\n",
    "end\n",
    "\n",
    "# Función para calcular si un número es par\n",
    "function es_par(numero)\n",
    "    return numero % 2 == 0\n",
    "end\n",
    "\n",
    "# Usar las funciones\n",
    "mi_area = calcular_area_rectangulo(5, 3)\n",
    "println(\"El área del rectángulo es: $mi_area\")\n",
    "\n",
    "numero_test = 8\n",
    "if es_par(numero_test)\n",
    "    println(\"$numero_test es par\")\n",
    "else\n",
    "    println(\"$numero_test es impar\")\n",
    "end"
   ]
  },
  {
   "cell_type": "markdown",
   "id": "cb6fe7f1",
   "metadata": {},
   "source": [
    "## 8. Proyecto Práctico - Calculadora Personal\n",
    "\n",
    "¡Vamos a crear algo útil combinando todo lo que hemos aprendido!"
   ]
  },
  {
   "cell_type": "code",
   "execution_count": null,
   "id": "8377f935",
   "metadata": {},
   "outputs": [],
   "source": [
    "# Calculadora simple\n",
    "function calculadora(operacion, a, b)\n",
    "    if operacion == \"suma\" || operacion == \"+\"\n",
    "        return a + b\n",
    "    elseif operacion == \"resta\" || operacion == \"-\"\n",
    "        return a - b\n",
    "    elseif operacion == \"multiplicacion\" || operacion == \"*\"\n",
    "        return a * b\n",
    "    elseif operacion == \"division\" || operacion == \"/\"\n",
    "        if b == 0\n",
    "            return \"Error: No se puede dividir por cero\"\n",
    "        else\n",
    "            return a / b\n",
    "        end\n",
    "    else\n",
    "        return \"Operación no reconocida\"\n",
    "    end\n",
    "end\n",
    "\n",
    "# Probar la calculadora\n",
    "println(\"=== MI CALCULADORA ===\")\n",
    "println(\"10 + 5 = \", calculadora(\"+\", 10, 5))\n",
    "println(\"10 - 5 = \", calculadora(\"-\", 10, 5))\n",
    "println(\"10 * 5 = \", calculadora(\"*\", 10, 5))\n",
    "println(\"10 / 5 = \", calculadora(\"/\", 10, 5))\n",
    "println(\"10 / 0 = \", calculadora(\"/\", 10, 0))"
   ]
  },
  {
   "cell_type": "code",
   "execution_count": null,
   "id": "12b355bd",
   "metadata": {},
   "outputs": [],
   "source": [
    "# Analizador de lista de números\n",
    "function analizar_numeros(numeros)\n",
    "    println(\"\\n=== ANÁLISIS DE NÚMEROS ===\")\n",
    "    println(\"Lista: $numeros\")\n",
    "    println(\"Cantidad de números: $(length(numeros))\")\n",
    "    \n",
    "    # Estadísticas básicas\n",
    "    suma_total = sum(numeros)\n",
    "    promedio = suma_total / length(numeros)\n",
    "    numero_mayor = maximum(numeros)\n",
    "    numero_menor = minimum(numeros)\n",
    "    \n",
    "    println(\"Suma total: $suma_total\")\n",
    "    println(\"Promedio: $(round(promedio, digits=2))\")\n",
    "    println(\"Número mayor: $numero_mayor\")\n",
    "    println(\"Número menor: $numero_menor\")\n",
    "    \n",
    "    # Contar pares e impares\n",
    "    pares = 0\n",
    "    impares = 0\n",
    "    \n",
    "    for num in numeros\n",
    "        if num % 2 == 0\n",
    "            pares = pares + 1\n",
    "        else\n",
    "            impares = impares + 1\n",
    "        end\n",
    "    end\n",
    "    \n",
    "    println(\"Números pares: $pares\")\n",
    "    println(\"Números impares: $impares\")\n",
    "end\n",
    "\n",
    "# Probar el analizador\n",
    "mi_lista = [1, 15, 3, 22, 8, 7, 12, 9, 4, 18]\n",
    "analizar_numeros(mi_lista)"
   ]
  },
  {
   "cell_type": "markdown",
   "id": "d034a2f4",
   "metadata": {},
   "source": [
    "## 9. Generador de Tablas de Multiplicar\n",
    "\n",
    "Un proyecto divertido para practicar bucles anidados:"
   ]
  },
  {
   "cell_type": "code",
   "execution_count": null,
   "id": "eee0d34e",
   "metadata": {},
   "outputs": [],
   "source": [
    "function tabla_multiplicar(numero, hasta=10)\n",
    "    println(\"\\n=== TABLA DEL $numero ===\")\n",
    "    \n",
    "    for i in 1:hasta\n",
    "        resultado = numero * i\n",
    "        println(\"$numero x $i = $resultado\")\n",
    "    end\n",
    "end\n",
    "\n",
    "# Generar tabla del 7\n",
    "tabla_multiplicar(7)\n",
    "\n",
    "# Generar tabla del 3 hasta el 5\n",
    "tabla_multiplicar(3, 5)"
   ]
  },
  {
   "cell_type": "code",
   "execution_count": null,
   "id": "682180c5",
   "metadata": {},
   "outputs": [],
   "source": [
    "# Generador de múltiples tablas\n",
    "function tablas_multiples(desde, hasta)\n",
    "    println(\"\\n=== TABLAS DEL $desde AL $hasta ===\")\n",
    "    \n",
    "    for tabla in desde:hasta\n",
    "        println(\"\\nTabla del $tabla:\")\n",
    "        for i in 1:5  # Solo hasta 5 para no saturar\n",
    "            resultado = tabla * i\n",
    "            println(\"  $tabla x $i = $resultado\")\n",
    "        end\n",
    "    end\n",
    "end\n",
    "\n",
    "# Generar tablas del 2 al 4\n",
    "tablas_multiples(2, 4)"
   ]
  },
  {
   "cell_type": "markdown",
   "id": "98c80ca5",
   "metadata": {},
   "source": [
    "## 10. Juego Simple - Adivina el Número\n",
    "\n",
    "¡Vamos a crear un juego!"
   ]
  },
  {
   "cell_type": "code",
   "execution_count": null,
   "id": "d2c86302",
   "metadata": {},
   "outputs": [],
   "source": [
    "# Simulación del juego (sin entrada del usuario)\n",
    "function simular_juego_adivinanza()\n",
    "    # Número secreto (entre 1 y 100)\n",
    "    numero_secreto = 42  # En un juego real sería rand(1:100)\n",
    "    intentos = 0\n",
    "    max_intentos = 7\n",
    "    \n",
    "    println(\"=== JUEGO: ADIVINA EL NÚMERO ===\")\n",
    "    println(\"He pensado un número entre 1 y 100\")\n",
    "    println(\"Tienes $max_intentos intentos para adivinarlo\")\n",
    "    \n",
    "    # Simulamos algunos intentos\n",
    "    adivinanzas = [25, 50, 35, 40, 44, 42]  # En un juego real sería input del usuario\n",
    "    \n",
    "    for adivinanza in adivinanzas\n",
    "        intentos = intentos + 1\n",
    "        \n",
    "        println(\"\\nIntento $intentos: ¿Es $adivinanza?\")\n",
    "        \n",
    "        if adivinanza == numero_secreto\n",
    "            println(\"🎉 ¡CORRECTO! ¡Adivinaste en $intentos intentos!\")\n",
    "            return\n",
    "        elseif adivinanza < numero_secreto\n",
    "            println(\"📈 Muy bajo. Intenta con un número más grande.\")\n",
    "        else\n",
    "            println(\"📉 Muy alto. Intenta con un número más pequeño.\")\n",
    "        end\n",
    "        \n",
    "        if intentos >= max_intentos\n",
    "            println(\"\\n😞 Se acabaron los intentos. El número era $numero_secreto\")\n",
    "            return\n",
    "        end\n",
    "    end\n",
    "end\n",
    "\n",
    "# Jugar\n",
    "simular_juego_adivinanza()"
   ]
  },
  {
   "cell_type": "markdown",
   "id": "2ef54a53",
   "metadata": {},
   "source": [
    "## 11. Ejercicios para Practicar\n",
    "\n",
    "¡Ahora es tu turno! Intenta resolver estos ejercicios:"
   ]
  },
  {
   "cell_type": "code",
   "execution_count": null,
   "id": "349c847f",
   "metadata": {},
   "outputs": [],
   "source": [
    "# EJERCICIO 1: Conversor de temperatura\n",
    "# Crea una función que convierta Celsius a Fahrenheit\n",
    "# Fórmula: F = C * 9/5 + 32\n",
    "\n",
    "function celsius_a_fahrenheit(celsius)\n",
    "    # Tu código aquí\n",
    "    # return ...\n",
    "end\n",
    "\n",
    "# Prueba tu función:\n",
    "# println(\"25°C = \", celsius_a_fahrenheit(25), \"°F\")"
   ]
  },
  {
   "cell_type": "code",
   "execution_count": null,
   "id": "80035b38",
   "metadata": {},
   "outputs": [],
   "source": [
    "# EJERCICIO 2: Contador de vocales\n",
    "# Crea una función que cuente cuántas vocales hay en una palabra\n",
    "\n",
    "function contar_vocales(palabra)\n",
    "    # Pista: usa un bucle for y la función lowercase()\n",
    "    # Las vocales son: a, e, i, o, u\n",
    "    \n",
    "    # Tu código aquí\n",
    "end\n",
    "\n",
    "# Prueba tu función:\n",
    "# println(\"Vocales en 'programacion': \", contar_vocales(\"programacion\"))"
   ]
  },
  {
   "cell_type": "code",
   "execution_count": null,
   "id": "bc93f7a8",
   "metadata": {},
   "outputs": [],
   "source": [
    "# EJERCICIO 3: Calculadora de promedio de notas\n",
    "# Crea una función que reciba una lista de notas y devuelva:\n",
    "# - El promedio\n",
    "# - La nota más alta\n",
    "# - La nota más baja\n",
    "# - Cuántas notas están por encima del promedio\n",
    "\n",
    "function analizar_notas(notas)\n",
    "    # Tu código aquí\n",
    "end\n",
    "\n",
    "# Prueba tu función:\n",
    "# mis_notas = [85, 92, 78, 96, 87, 91, 83]\n",
    "# analizar_notas(mis_notas)"
   ]
  },
  {
   "cell_type": "markdown",
   "id": "52ed628b",
   "metadata": {},
   "source": [
    "## 12. Soluciones de los Ejercicios\n",
    "\n",
    "Aquí están las soluciones. ¡Intenta resolverlos primero antes de mirar!"
   ]
  },
  {
   "cell_type": "code",
   "execution_count": null,
   "id": "8ae0a536",
   "metadata": {},
   "outputs": [],
   "source": [
    "# SOLUCIÓN 1: Conversor de temperatura\n",
    "function celsius_a_fahrenheit_solucion(celsius)\n",
    "    fahrenheit = celsius * 9/5 + 32\n",
    "    return fahrenheit\n",
    "end\n",
    "\n",
    "# Pruebas\n",
    "println(\"0°C = \", celsius_a_fahrenheit_solucion(0), \"°F\")\n",
    "println(\"25°C = \", celsius_a_fahrenheit_solucion(25), \"°F\")\n",
    "println(\"100°C = \", celsius_a_fahrenheit_solucion(100), \"°F\")"
   ]
  },
  {
   "cell_type": "code",
   "execution_count": null,
   "id": "f8b7a947",
   "metadata": {},
   "outputs": [],
   "source": [
    "# SOLUCIÓN 2: Contador de vocales\n",
    "function contar_vocales_solucion(palabra)\n",
    "    vocales = \"aeiou\"\n",
    "    contador = 0\n",
    "    \n",
    "    for letra in lowercase(palabra)\n",
    "        if letra in vocales\n",
    "            contador = contador + 1\n",
    "        end\n",
    "    end\n",
    "    \n",
    "    return contador\n",
    "end\n",
    "\n",
    "# Pruebas\n",
    "println(\"Vocales en 'Julia': \", contar_vocales_solucion(\"Julia\"))\n",
    "println(\"Vocales en 'programacion': \", contar_vocales_solucion(\"programacion\"))\n",
    "println(\"Vocales en 'Hola mundo': \", contar_vocales_solucion(\"Hola mundo\"))"
   ]
  },
  {
   "cell_type": "code",
   "execution_count": null,
   "id": "3c549765",
   "metadata": {},
   "outputs": [],
   "source": [
    "# SOLUCIÓN 3: Analizador de notas\n",
    "function analizar_notas_solucion(notas)\n",
    "    # Calcular estadísticas\n",
    "    promedio = sum(notas) / length(notas)\n",
    "    nota_alta = maximum(notas)\n",
    "    nota_baja = minimum(notas)\n",
    "    \n",
    "    # Contar notas por encima del promedio\n",
    "    por_encima = 0\n",
    "    for nota in notas\n",
    "        if nota > promedio\n",
    "            por_encima = por_encima + 1\n",
    "        end\n",
    "    end\n",
    "    \n",
    "    # Mostrar resultados\n",
    "    println(\"\\n=== ANÁLISIS DE NOTAS ===\")\n",
    "    println(\"Notas: $notas\")\n",
    "    println(\"Promedio: $(round(promedio, digits=2))\")\n",
    "    println(\"Nota más alta: $nota_alta\")\n",
    "    println(\"Nota más baja: $nota_baja\")\n",
    "    println(\"Notas por encima del promedio: $por_encima\")\n",
    "end\n",
    "\n",
    "# Prueba\n",
    "mis_notas = [85, 92, 78, 96, 87, 91, 83]\n",
    "analizar_notas_solucion(mis_notas)"
   ]
  },
  {
   "cell_type": "markdown",
   "id": "32eaaad1",
   "metadata": {},
   "source": [
    "## 🎉 ¡Felicidades!\n",
    "\n",
    "Has completado tu primera introducción a Julia. Ahora sabes:\n",
    "\n",
    "✅ **Variables**: Almacenar información  \n",
    "✅ **Operaciones**: Matemáticas y lógica  \n",
    "✅ **Arrays**: Listas de datos  \n",
    "✅ **Condicionales**: Tomar decisiones  \n",
    "✅ **Bucles**: Repetir acciones  \n",
    "✅ **Funciones**: Organizar código  \n",
    "✅ **Proyectos**: Combinar todo  \n",
    "\n",
    "## ¿Qué sigue?\n",
    "\n",
    "1. **Práctica**: Resuelve más problemas\n",
    "2. **Explora**: Aprende sobre paquetes de Julia\n",
    "3. **Construye**: Crea proyectos más grandes\n",
    "4. **Conecta**: Únete a la comunidad de Julia\n",
    "\n",
    "### Recursos útiles:\n",
    "- [Julia Documentation](https://docs.julialang.org/)\n",
    "- [Julia Academy](https://juliaacademy.com/)\n",
    "- [Julia Discourse](https://discourse.julialang.org/)\n",
    "- [Julia Packages](https://juliapackages.com/)\n",
    "\n",
    "¡Sigue programando y divirtiéndote con Julia! 🚀"
   ]
  }
 ],
 "metadata": {
  "language_info": {
   "name": "python"
  }
 },
 "nbformat": 4,
 "nbformat_minor": 5
}
